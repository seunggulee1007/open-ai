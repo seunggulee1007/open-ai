{
 "cells": [
  {
   "cell_type": "markdown",
   "id": "53d3770e",
   "metadata": {},
   "source": [
    "\n",
    "# Python 제어문\n",
    "\n",
    "이 노트북은 Python의 제어문에 대해 소개합니다."
   ]
  },
  {
   "cell_type": "markdown",
   "id": "af88a15e-ed20-418b-ae13-0851eb69f29e",
   "metadata": {},
   "source": [
    "## 제어문\n",
    "\n",
    "제어문은 프로그램의 흐름을 제어하기 위해 사용됩니다. Python에서 주로 사용되는 제어문에는 다음이 포함됩니다:\n",
    "\n",
    "- 조건문 (if, elif, else)\n",
    "- 반복문 (for, while)"
   ]
  },
  {
   "cell_type": "markdown",
   "id": "80045143-edc0-4883-92e3-80e772e6d9e0",
   "metadata": {},
   "source": [
    "### 조건문 (if, elif, else)\n",
    "\n",
    "조건에 따라 다른 코드가 실행되도록 합니다."
   ]
  },
  {
   "cell_type": "code",
   "execution_count": null,
   "id": "bee9d5c9-f49f-42ef-87a2-362a03025c04",
   "metadata": {},
   "outputs": [],
   "source": [
    "x = 2"
   ]
  },
  {
   "cell_type": "code",
   "execution_count": null,
   "id": "55bd4ead-9683-499f-8b43-43d86c039830",
   "metadata": {},
   "outputs": [],
   "source": [
    "if x > 5:\n",
    "    print(\"x는 5보다 큽니다.\")\n",
    "elif x == 5:\n",
    "    print(\"x는 5입니다.\")\n",
    "else:\n",
    "    print(\"x는 5보다 작습니다.\")"
   ]
  },
  {
   "cell_type": "markdown",
   "id": "a4a48c6c-9465-4a94-b455-3eec20eb6284",
   "metadata": {},
   "source": [
    "### 숫자 맞추기"
   ]
  },
  {
   "cell_type": "code",
   "execution_count": null,
   "id": "bf86001b-7ee2-4607-be23-c8192b99b2d2",
   "metadata": {},
   "outputs": [],
   "source": [
    "import random\n",
    "target = random.randint(1, 5)"
   ]
  },
  {
   "cell_type": "code",
   "execution_count": null,
   "id": "d57b69f7-b512-45cf-8bee-46b9e257132a",
   "metadata": {},
   "outputs": [],
   "source": [
    "guess = int(input(\"숫자를 입력하세요: \"))"
   ]
  },
  {
   "cell_type": "code",
   "execution_count": null,
   "id": "e58920dc-2167-46fc-aa1a-07edaffbd247",
   "metadata": {},
   "outputs": [],
   "source": [
    "if guess == target:\n",
    "    print(\"정답입니다\")\n",
    "elif guess < target:\n",
    "    print(\"target은 좀 더 큰 숫자입니다\")\n",
    "elif guess > target:\n",
    "    print(\"target은 좀 더 작은 숫자입니다\")"
   ]
  },
  {
   "cell_type": "markdown",
   "id": "14638d2b-1e16-4132-bab1-6d2a92bb2aa8",
   "metadata": {},
   "source": [
    "### 반복문 (for, while)\n",
    "\n",
    "코드 블럭을 반복해서 실행합니다.\n",
    "\n",
    "- for 문: 시퀀스(리스트, 튜플, 문자열 등)를 순회합니다."
   ]
  },
  {
   "cell_type": "code",
   "execution_count": null,
   "id": "cb53d90c-0bac-4d0d-9685-b5683b82e389",
   "metadata": {},
   "outputs": [],
   "source": [
    "for i in range(10):\n",
    "    print(i)"
   ]
  },
  {
   "cell_type": "markdown",
   "id": "d18d15c4-6364-4135-bfa8-648ff4000cff",
   "metadata": {},
   "source": [
    "- while 문: 조건이 참인 동안 계속 실행합니다."
   ]
  },
  {
   "cell_type": "code",
   "execution_count": null,
   "id": "2dd2c688-cb69-45f7-9b66-0a8c2cf4d1e6",
   "metadata": {},
   "outputs": [],
   "source": [
    "count = 0\n",
    "while count < 5:\n",
    "    print(count)\n",
    "    count += 1 # count = count + 1, (count -= 1) ==  (count = count -1)"
   ]
  },
  {
   "cell_type": "code",
   "execution_count": null,
   "id": "4c83d9d9-5748-4035-9ee6-d4ae93180810",
   "metadata": {},
   "outputs": [],
   "source": [
    "fruits = [\"apple\", \"banana\", \"cherry\", \"orange\"]\n",
    "\n",
    "for fruit in fruits:\n",
    "    print(fruit)"
   ]
  },
  {
   "cell_type": "markdown",
   "id": "3f982bb6-e808-4a61-9d7d-2ff61739db5c",
   "metadata": {},
   "source": [
    "### 루프 제어 (break, continue)\n",
    "\n",
    "- break: 반복문을 즉시 종료합니다.\n",
    "- continue: 다음 반복으로 넘어갑니다."
   ]
  },
  {
   "cell_type": "code",
   "execution_count": 40,
   "id": "41bc8be2-e418-4853-9948-8bc85e751449",
   "metadata": {},
   "outputs": [
    {
     "name": "stdout",
     "output_type": "stream",
     "text": [
      "0\n",
      "1\n",
      "2\n",
      "3\n",
      "4\n"
     ]
    }
   ],
   "source": [
    "for i in range(10):\n",
    "    if i == 5:\n",
    "        break\n",
    "    print(i)"
   ]
  },
  {
   "cell_type": "code",
   "execution_count": 41,
   "id": "72d832aa-7902-41cd-8c51-1f17b5e21101",
   "metadata": {},
   "outputs": [
    {
     "name": "stdout",
     "output_type": "stream",
     "text": [
      "1\n",
      "3\n",
      "5\n",
      "7\n",
      "9\n"
     ]
    }
   ],
   "source": [
    "for i in range(10):\n",
    "    if i % 2 == 0:\n",
    "        continue\n",
    "    print(i)"
   ]
  },
  {
   "cell_type": "markdown",
   "id": "3d6fdb37-b271-439a-95f7-f502497462ac",
   "metadata": {},
   "source": [
    "이러한 제어문을 사용하여 프로그램의 흐름을 조정하고 복잡한 로직을 구현할 수 있습니다."
   ]
  },
  {
   "cell_type": "markdown",
   "id": "10fc8c69-82cb-4db5-9b8a-c0c2f5f787a3",
   "metadata": {},
   "source": [
    "### 숫자 맞추기 2"
   ]
  },
  {
   "cell_type": "code",
   "execution_count": 42,
   "id": "6f14c7ae-5ae6-4c7f-8d34-7e29be5df134",
   "metadata": {},
   "outputs": [],
   "source": [
    "import random\n",
    "\n",
    "target = random.randint(1, 10)"
   ]
  },
  {
   "cell_type": "code",
   "execution_count": 43,
   "id": "096ec333-6887-422b-9e61-8d5ac6bf3b5b",
   "metadata": {},
   "outputs": [
    {
     "name": "stdin",
     "output_type": "stream",
     "text": [
      "숫자를 입력하세요:  5\n"
     ]
    },
    {
     "name": "stdout",
     "output_type": "stream",
     "text": [
      "target은 좀 더 작은 숫자입니다\n"
     ]
    },
    {
     "name": "stdin",
     "output_type": "stream",
     "text": [
      "숫자를 입력하세요:  3\n"
     ]
    },
    {
     "name": "stdout",
     "output_type": "stream",
     "text": [
      "target은 좀 더 큰 숫자입니다\n"
     ]
    },
    {
     "name": "stdin",
     "output_type": "stream",
     "text": [
      "숫자를 입력하세요:  4\n"
     ]
    },
    {
     "name": "stdout",
     "output_type": "stream",
     "text": [
      "정답입니다\n"
     ]
    }
   ],
   "source": [
    "while True:\n",
    "    guess = int(input(\"숫자를 입력하세요: \"))\n",
    "    if guess == target:\n",
    "        print(\"정답입니다\")\n",
    "        break\n",
    "    elif guess < target:\n",
    "        print(\"target은 좀 더 큰 숫자입니다\")\n",
    "    elif guess > target:\n",
    "        print(\"target은 좀 더 작은 숫자입니다\")"
   ]
  },
  {
   "cell_type": "code",
   "execution_count": null,
   "id": "03780429-c0b1-4c66-92ec-9ca6244ed8bc",
   "metadata": {},
   "outputs": [],
   "source": []
  }
 ],
 "metadata": {
  "kernelspec": {
   "display_name": "Python 3 (ipykernel)",
   "language": "python",
   "name": "python3"
  },
  "language_info": {
   "codemirror_mode": {
    "name": "ipython",
    "version": 3
   },
   "file_extension": ".py",
   "mimetype": "text/x-python",
   "name": "python",
   "nbconvert_exporter": "python",
   "pygments_lexer": "ipython3",
   "version": "3.11.5"
  }
 },
 "nbformat": 4,
 "nbformat_minor": 5
}
