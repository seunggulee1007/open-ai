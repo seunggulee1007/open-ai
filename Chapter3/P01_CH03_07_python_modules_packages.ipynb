{
 "cells": [
  {
   "cell_type": "markdown",
   "id": "71e06430-118c-41e7-9033-5553a0d39f65",
   "metadata": {},
   "source": [
    "# Python 모듈과 패키지\n",
    "\n",
    "이 노트북은 Python의 모듈과 패키지 사용법에 대해 소개합니다.\n",
    "\n",
    "## 모듈(Module)\n",
    "\n",
    "모듈은 Python 코드를 담고 있는 파일입니다. 함수, 변수, 클래스 등을 포함할 수 있으며, 코드의 재사용성을 높이고 구조를 체계적으로 관리할 수 있습니다.\n",
    "\n",
    "### 모듈 생성 및 사용\n",
    "\n",
    "- 모듈 생성: Python 파일(.py)을 만들고 코드를 작성합니다.\n",
    "- 모듈 사용: `import` 키워드를 사용하여 다른 Python 스크립트에서 불러옵니다.\n",
    "\n",
    "다른 Python 파일\n",
    "```python\n",
    "# mymodule.py\n",
    "def greeting(name):\n",
    "    return \"Hello, \" + name\n",
    "```"
   ]
  },
  {
   "cell_type": "code",
   "execution_count": 1,
   "id": "56de717f-fd8d-45fb-b1c7-4c02f90f2e71",
   "metadata": {},
   "outputs": [
    {
     "name": "stdout",
     "output_type": "stream",
     "text": [
      "Hello, Python\n"
     ]
    }
   ],
   "source": [
    "# 다른 Python 파일\n",
    "import mymodule\n",
    "\n",
    "print(mymodule.greeting('Python'))"
   ]
  },
  {
   "cell_type": "code",
   "execution_count": 2,
   "id": "67f7383c-8d70-4638-8ac3-4e4999d41ce9",
   "metadata": {},
   "outputs": [
    {
     "name": "stdout",
     "output_type": "stream",
     "text": [
      "Hello, Python\n"
     ]
    }
   ],
   "source": [
    "# 다른 Python 파일\n",
    "from mymodule import greeting\n",
    "\n",
    "print(greeting('Python'))"
   ]
  },
  {
   "cell_type": "code",
   "execution_count": 3,
   "id": "c605c88d-90f4-46b3-8960-eab6fcf5123b",
   "metadata": {},
   "outputs": [
    {
     "name": "stdout",
     "output_type": "stream",
     "text": [
      "Hello, Python\n"
     ]
    }
   ],
   "source": [
    "# 다른 Python 파일\n",
    "import mymodule as mym\n",
    "\n",
    "print(mym.greeting('Python'))"
   ]
  },
  {
   "cell_type": "markdown",
   "id": "8aa123a2-9cd4-4a6f-9268-de67a77aa0b0",
   "metadata": {},
   "source": [
    "## 패키지(Package)\n",
    "\n",
    "패키지는 모듈의 집합으로, 여러 모듈을 포함하는 디렉토리입니다. 패키지를 사용하면 코드를 계층적으로 구조화하여 관리할 수 있습니다.\n",
    "\n",
    "### 패키지 생성 및 사용\n",
    "\n",
    "- 패키지 생성: 디렉토리를 생성하고 `__init__.py` 파일을 추가합니다. 이 디렉토리에 모듈(.py 파일)을 추가합니다.\n",
    "- 패키지 사용: `import` 키워드를 사용하여 패키지나 패키지 내의 모듈을 불러옵니다."
   ]
  },
  {
   "cell_type": "code",
   "execution_count": 4,
   "id": "8bfcb12d-b910-4ca4-8196-f5d9b758c790",
   "metadata": {},
   "outputs": [
    {
     "name": "stdout",
     "output_type": "stream",
     "text": [
      "Hi, Python\n"
     ]
    }
   ],
   "source": [
    "# mypackage/__init__.py\n",
    "# mypackage/mymodule_2.py\n",
    "\n",
    "# 다른 Python 파일\n",
    "from mypackage import mymodule_2\n",
    "\n",
    "print(mymodule_2.greeting('Python'))"
   ]
  },
  {
   "cell_type": "markdown",
   "id": "4633d91c-61fc-45d5-bf85-0c709b11c299",
   "metadata": {},
   "source": [
    "모듈과 패키지를 사용하면 코드의 재사용성을 높이고, 대규모 프로젝트를 체계적으로 관리할 수 있습니다."
   ]
  },
  {
   "cell_type": "code",
   "execution_count": null,
   "id": "d4c0c59b-eab2-4f1a-9f92-b65a4978c9ea",
   "metadata": {},
   "outputs": [],
   "source": []
  }
 ],
 "metadata": {
  "kernelspec": {
   "display_name": "Python 3 (ipykernel)",
   "language": "python",
   "name": "python3"
  },
  "language_info": {
   "codemirror_mode": {
    "name": "ipython",
    "version": 3
   },
   "file_extension": ".py",
   "mimetype": "text/x-python",
   "name": "python",
   "nbconvert_exporter": "python",
   "pygments_lexer": "ipython3",
   "version": "3.11.5"
  }
 },
 "nbformat": 4,
 "nbformat_minor": 5
}
