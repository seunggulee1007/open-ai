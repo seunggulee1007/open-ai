{
 "cells": [
  {
   "cell_type": "markdown",
   "id": "66126ae2-1278-46cf-9c08-7794e9a51ff3",
   "metadata": {},
   "source": [
    "# Python 클래스\n",
    "\n",
    "이 노트북은 Python의 클래스와 객체 지향 프로그래밍에 대해 소개합니다.\n",
    "\n",
    "## 클래스(Class)\n",
    "\n",
    "클래스는 객체를 생성하기 위한 템플릿입니다. 데이터와 메서드를 하나로 묶어 관리할 수 있습니다.\n",
    "\n",
    "### 클래스 정의\n",
    "\n",
    "클래스는 `class` 키워드를 사용하여 정의합니다."
   ]
  },
  {
   "cell_type": "code",
   "execution_count": 1,
   "id": "df84e02b-1d03-4c0e-a988-52c2eb004da9",
   "metadata": {},
   "outputs": [],
   "source": [
    "class MyClass:\n",
    "    x = 5"
   ]
  },
  {
   "cell_type": "markdown",
   "id": "70427500-86a5-49d9-a00c-1bf3808c4ed3",
   "metadata": {},
   "source": [
    "### 객체 생성\n",
    "\n",
    "클래스를 사용하여 객체를 생성할 수 있습니다."
   ]
  },
  {
   "cell_type": "code",
   "execution_count": 2,
   "id": "eb8d824f-3879-4803-95ca-b8e7a001c77e",
   "metadata": {},
   "outputs": [
    {
     "name": "stdout",
     "output_type": "stream",
     "text": [
      "5\n"
     ]
    }
   ],
   "source": [
    "p1 = MyClass()\n",
    "print(p1.x)"
   ]
  },
  {
   "cell_type": "markdown",
   "id": "c7631e45-4cbc-4008-ac47-22a4f5582527",
   "metadata": {},
   "source": [
    "## __init__() 메서드\n",
    "\n",
    "`__init__()` 메서드는 클래스의 생성자입니다. 객체가 생성될 때 자동으로 호출되어 객체의 초기화를 담당합니다."
   ]
  },
  {
   "cell_type": "code",
   "execution_count": 5,
   "id": "a49475ff-e955-42a8-a0a8-f5114f953eb0",
   "metadata": {},
   "outputs": [
    {
     "name": "stdout",
     "output_type": "stream",
     "text": [
      "John\n",
      "36\n"
     ]
    }
   ],
   "source": [
    "class Person:\n",
    "    def __init__(self, name, age):\n",
    "        self.name = name\n",
    "        self.age = age\n",
    "\n",
    "p1 = Person(\"John\", 36)\n",
    "print(p1.name)\n",
    "print(p1.age)"
   ]
  },
  {
   "cell_type": "code",
   "execution_count": 6,
   "id": "95bc8cb4-ee3a-4c2d-a797-8eaad9f7fbc8",
   "metadata": {},
   "outputs": [
    {
     "name": "stdout",
     "output_type": "stream",
     "text": [
      "Alice\n",
      "25\n"
     ]
    }
   ],
   "source": [
    "p2 = Person(\"Alice\", 25)\n",
    "print(p2.name)\n",
    "print(p2.age)"
   ]
  },
  {
   "cell_type": "markdown",
   "id": "2c785ba9-32f0-4802-8196-badb9eb7a6d7",
   "metadata": {},
   "source": [
    "## 메서드\n",
    "\n",
    "클래스 내에서 정의된 함수를 메서드라고 합니다. 이를 통해 객체의 동작을 정의할 수 있습니다."
   ]
  },
  {
   "cell_type": "code",
   "execution_count": 7,
   "id": "32794ec4-da47-4357-8516-586ad6cc8aae",
   "metadata": {},
   "outputs": [
    {
     "name": "stdout",
     "output_type": "stream",
     "text": [
      "안녕하세요, 제 이름은 Alice입니다!\n"
     ]
    }
   ],
   "source": [
    "class Person:\n",
    "    def __init__(self, name, age):\n",
    "        self.name = name\n",
    "        self.age = age\n",
    "\n",
    "    def greet(self):\n",
    "        return \"안녕하세요, 제 이름은 \" + self.name + \"입니다!\"\n",
    "\n",
    "p1 = Person(\"Alice\", 25)\n",
    "print(p1.greet())"
   ]
  },
  {
   "cell_type": "markdown",
   "id": "8e7dbc1d-860c-4e87-ab28-85c96e29b7aa",
   "metadata": {},
   "source": [
    "## 상속 (Inheritance)\n",
    "\n",
    "상속을 통해 한 클래스의 모든 속성과 메서드를 다른 클래스에 전달할 수 있습니다."
   ]
  },
  {
   "cell_type": "code",
   "execution_count": 10,
   "id": "e7c27ff5-925b-47f7-ae89-560d4a00aa1b",
   "metadata": {},
   "outputs": [
    {
     "name": "stdout",
     "output_type": "stream",
     "text": [
      "안녕하세요, 제 이름은 Dave입니다!\n"
     ]
    }
   ],
   "source": [
    "class Student(Person):\n",
    "    def study(self):\n",
    "        return \"studying\"\n",
    "\n",
    "s1 = Student(\"Dave\", 20)\n",
    "print(s1.greet())"
   ]
  },
  {
   "cell_type": "code",
   "execution_count": 11,
   "id": "f8748009-c303-464d-98c0-3c95ac52f3ac",
   "metadata": {},
   "outputs": [
    {
     "name": "stdout",
     "output_type": "stream",
     "text": [
      "studying\n"
     ]
    }
   ],
   "source": [
    "print(s1.study())"
   ]
  },
  {
   "cell_type": "markdown",
   "id": "99d80241-7ccd-4595-85bd-2e9c16934f39",
   "metadata": {},
   "source": [
    "클래스와 상속은 Python에서 강력한 객체 지향 프로그래밍을 가능하게 합니다. 이를 통해 코드의 재사용성을 높이고, 관리가 더 쉬워집니다."
   ]
  },
  {
   "cell_type": "markdown",
   "id": "32b9d6b7-9055-46ad-ad94-10ce5dee2f34",
   "metadata": {},
   "source": [
    "## 은행 계좌 만들기"
   ]
  },
  {
   "cell_type": "code",
   "execution_count": 12,
   "id": "fba65f91-2b41-4a64-8d7a-771ba0531234",
   "metadata": {},
   "outputs": [],
   "source": [
    "class BankAccount:\n",
    "    def __init__(self, account_number, balance=0):\n",
    "        self.account_number = account_number\n",
    "        self.balance = balance\n",
    "\n",
    "    def deposit(self, amount):\n",
    "        self.balance += amount\n",
    "        print(f\"{amount}원이 입금되었습니다. 현재 잔액: {self.balance}원\")\n",
    "\n",
    "    def widthdraw(self, amount):\n",
    "        if self.balance >= amount:\n",
    "            self.balance -= amount\n",
    "            print(f\"{amount}원이 출금되었습니다. 현재 잔액: {self.balance}원\")\n",
    "        else:\n",
    "            print(f\"잔액이 부족합니다. 현재 잔액: {self.balance}원\")"
   ]
  },
  {
   "cell_type": "code",
   "execution_count": 13,
   "id": "c200face-cc22-4602-9f98-fe055861ea4c",
   "metadata": {},
   "outputs": [],
   "source": [
    "account_1 = BankAccount(\"123-456-789\", 10000)"
   ]
  },
  {
   "cell_type": "code",
   "execution_count": 14,
   "id": "2df6be8e-771c-45a6-a008-4cd7b77d1f8a",
   "metadata": {},
   "outputs": [
    {
     "name": "stdout",
     "output_type": "stream",
     "text": [
      "5000원이 입금되었습니다. 현재 잔액: 15000원\n"
     ]
    }
   ],
   "source": [
    "account_1.deposit(5000)"
   ]
  },
  {
   "cell_type": "code",
   "execution_count": 15,
   "id": "ddbf3e29-c1f8-48a8-91e6-41bb31a2f030",
   "metadata": {},
   "outputs": [
    {
     "name": "stdout",
     "output_type": "stream",
     "text": [
      "12000원이 출금되었습니다. 현재 잔액: 3000원\n"
     ]
    }
   ],
   "source": [
    "account_1.widthdraw(12000)"
   ]
  },
  {
   "cell_type": "code",
   "execution_count": 16,
   "id": "7f7588c9-e13c-499e-af72-34ad705ff8d9",
   "metadata": {},
   "outputs": [
    {
     "name": "stdout",
     "output_type": "stream",
     "text": [
      "잔액이 부족합니다. 현재 잔액: 3000원\n"
     ]
    }
   ],
   "source": [
    "account_1.widthdraw(5000)"
   ]
  },
  {
   "cell_type": "code",
   "execution_count": 17,
   "id": "001b4a88-b8c0-47cc-8cf1-e1d3587e523d",
   "metadata": {},
   "outputs": [],
   "source": [
    "account_2 = BankAccount(\"543-456-945\", 20000)"
   ]
  },
  {
   "cell_type": "code",
   "execution_count": 18,
   "id": "9763ef75-c648-4575-a7af-7b878c74a659",
   "metadata": {},
   "outputs": [
    {
     "name": "stdout",
     "output_type": "stream",
     "text": [
      "1000원이 입금되었습니다. 현재 잔액: 21000원\n"
     ]
    }
   ],
   "source": [
    "account_2.deposit(1000)"
   ]
  },
  {
   "cell_type": "code",
   "execution_count": 19,
   "id": "b78de3d8-f20a-479c-afa6-ff86887a0175",
   "metadata": {},
   "outputs": [
    {
     "name": "stdout",
     "output_type": "stream",
     "text": [
      "5000원이 출금되었습니다. 현재 잔액: 16000원\n"
     ]
    }
   ],
   "source": [
    "account_2.widthdraw(5000)"
   ]
  },
  {
   "cell_type": "code",
   "execution_count": 20,
   "id": "0b568fb5-dc53-4d3a-8101-d9d5501ebcad",
   "metadata": {},
   "outputs": [
    {
     "name": "stdout",
     "output_type": "stream",
     "text": [
      "2000원이 출금되었습니다. 현재 잔액: 14000원\n"
     ]
    }
   ],
   "source": [
    "account_2.widthdraw(2000)"
   ]
  },
  {
   "cell_type": "code",
   "execution_count": null,
   "id": "5fce53bc-a159-44e1-842a-5c5daef56163",
   "metadata": {},
   "outputs": [],
   "source": []
  }
 ],
 "metadata": {
  "kernelspec": {
   "display_name": "Python 3 (ipykernel)",
   "language": "python",
   "name": "python3"
  },
  "language_info": {
   "codemirror_mode": {
    "name": "ipython",
    "version": 3
   },
   "file_extension": ".py",
   "mimetype": "text/x-python",
   "name": "python",
   "nbconvert_exporter": "python",
   "pygments_lexer": "ipython3",
   "version": "3.11.5"
  }
 },
 "nbformat": 4,
 "nbformat_minor": 5
}
