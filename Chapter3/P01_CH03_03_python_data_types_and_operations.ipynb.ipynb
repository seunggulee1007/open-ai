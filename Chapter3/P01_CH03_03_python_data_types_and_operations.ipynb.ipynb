{
 "cells": [
  {
   "cell_type": "markdown",
   "id": "25000fc3-c4fe-4323-9c47-2283cec71ef1",
   "metadata": {},
   "source": [
    "# Python 자료형과 연산\n",
    "\n",
    "이 노트북은 Python의 기본 자료형과 연산에 대해 소개합니다."
   ]
  },
  {
   "cell_type": "markdown",
   "id": "603b3867-90a9-43a4-8f17-f7e782ab8e5a",
   "metadata": {},
   "source": [
    "## 미리보기\n",
    "\n",
    "간단한 예제를 통해 Python에서 자료형과 연산을 어떻게 사용하는지 알아봅시다.\n",
    "\n",
    "```python\n",
    "# 정수와 부동소수점 수\n",
    "x = 10\n",
    "y = 3.14\n",
    "\n",
    "# 문자열\n",
    "s = \"Python\"\n",
    "\n",
    "# 불리언\n",
    "is_active = True\n",
    "\n",
    "# 리스트\n",
    "my_list = [1, 2, 3]\n",
    "\n",
    "# 사전\n",
    "my_dict = {'name': 'Alice', 'age': 25}\n",
    "\n",
    "# 연산 예제\n",
    "result = x * y\n",
    "print(result)\n",
    "```"
   ]
  },
  {
   "cell_type": "markdown",
   "id": "252b9822-f50e-4f6b-9ee6-714e4c3a44d9",
   "metadata": {},
   "source": [
    "## 기본 자료형과 연산\n",
    "\n",
    "Python에는 다음과 같은 기본 자료형이 있습니다:\n",
    "\n",
    "- 정수 (int, Integers): 예) 1, 2, 3\n",
    "- 부동소수점 수 (float, Floats): 예) 1.23, 4.56\n",
    "- 문자열 (str, Strings): 예) '안녕하세요', \"Python\"\n",
    "- 불리언 (bool, Booleans): 예) True, False\n",
    "\n",
    "Python에서 사용할 수 있는 기본 연산자에는 다음이 포함됩니다:\n",
    "- 산술 연산자: +, -, *, /, % (나머지), ** (지수), // (몫)\n",
    "- 비교 연산자: ==, !=, >, <, >=, <=\n",
    "- 할당 연산자: =, +=, -= 등\n",
    "- 논리 연산자: and, or, not"
   ]
  },
  {
   "cell_type": "code",
   "execution_count": 10,
   "id": "2ed53e09-0d5b-4b67-87bc-bdebd8983e19",
   "metadata": {},
   "outputs": [
    {
     "name": "stdout",
     "output_type": "stream",
     "text": [
      "<class 'int'>\n"
     ]
    }
   ],
   "source": [
    "# int\n",
    "print(type(4))"
   ]
  },
  {
   "cell_type": "code",
   "execution_count": 11,
   "id": "aab3e904-5fab-4432-948a-9fb6f95e13e1",
   "metadata": {},
   "outputs": [
    {
     "name": "stdout",
     "output_type": "stream",
     "text": [
      "<class 'float'>\n"
     ]
    }
   ],
   "source": [
    "# float\n",
    "print(type(1.5 + 2.5))"
   ]
  },
  {
   "cell_type": "code",
   "execution_count": 14,
   "id": "cf9111a8-037e-494e-9e8e-c4df480fa0d6",
   "metadata": {},
   "outputs": [
    {
     "name": "stdout",
     "output_type": "stream",
     "text": [
      "<class 'float'>\n"
     ]
    }
   ],
   "source": [
    "print(type(4 + 0.1))"
   ]
  },
  {
   "cell_type": "code",
   "execution_count": 16,
   "id": "bf14b38d-15d0-4cec-be03-37628d362498",
   "metadata": {},
   "outputs": [
    {
     "name": "stdout",
     "output_type": "stream",
     "text": [
      "<class 'float'>\n"
     ]
    }
   ],
   "source": [
    "print(type(4/3))"
   ]
  },
  {
   "cell_type": "code",
   "execution_count": 17,
   "id": "17ffa468-4510-4362-b38d-4656dc414454",
   "metadata": {},
   "outputs": [
    {
     "name": "stdout",
     "output_type": "stream",
     "text": [
      "4\n"
     ]
    }
   ],
   "source": [
    "# 제곱\n",
    "print(2**2)"
   ]
  },
  {
   "cell_type": "code",
   "execution_count": 18,
   "id": "0dc22ac7-547a-44ab-859c-3bbe6bba495d",
   "metadata": {},
   "outputs": [
    {
     "name": "stdout",
     "output_type": "stream",
     "text": [
      "1\n"
     ]
    }
   ],
   "source": [
    "# 나머지\n",
    "print(10 % 3)"
   ]
  },
  {
   "cell_type": "code",
   "execution_count": 19,
   "id": "5d84bad1-2c75-4d06-9981-c6081455fd36",
   "metadata": {},
   "outputs": [
    {
     "name": "stdout",
     "output_type": "stream",
     "text": [
      "3.3333333333333335\n",
      "3\n"
     ]
    }
   ],
   "source": [
    "# 나누기 몫\n",
    "print(10 / 3)\n",
    "print(10 // 3)"
   ]
  },
  {
   "cell_type": "code",
   "execution_count": 20,
   "id": "e8977c01-7f4f-4228-a9ac-699a97788e21",
   "metadata": {},
   "outputs": [
    {
     "name": "stdout",
     "output_type": "stream",
     "text": [
      "11.5\n"
     ]
    }
   ],
   "source": [
    "print(10 + 1.5)"
   ]
  },
  {
   "cell_type": "code",
   "execution_count": 22,
   "id": "e1f1ea43-3f12-402e-9779-233d2302d72f",
   "metadata": {},
   "outputs": [
    {
     "name": "stdout",
     "output_type": "stream",
     "text": [
      "문자를 뜻하는 것이 str 자료형\n",
      "문자는 문자끼리 더 할 수 있습니다\n"
     ]
    }
   ],
   "source": [
    "# str 문자열\n",
    "print(\"문자를 뜻하는 것이 str 자료형\")\n",
    "print(\"문자는 \" + \"문자끼리 \" + \"더 할 수 있습니다\")"
   ]
  },
  {
   "cell_type": "code",
   "execution_count": 25,
   "id": "06f8644e-7906-4eb3-a1e6-be2bcb81924e",
   "metadata": {},
   "outputs": [
    {
     "name": "stdout",
     "output_type": "stream",
     "text": [
      "**********\n"
     ]
    }
   ],
   "source": [
    "print(\"*\" * 10)"
   ]
  },
  {
   "cell_type": "markdown",
   "id": "dcb43b5c-6792-46da-be36-b3b7604e1210",
   "metadata": {},
   "source": [
    "## 변수"
   ]
  },
  {
   "cell_type": "code",
   "execution_count": 26,
   "id": "a6e7446c-e48c-4f6d-8576-b25934282b64",
   "metadata": {},
   "outputs": [
    {
     "name": "stdout",
     "output_type": "stream",
     "text": [
      "1\n"
     ]
    }
   ],
   "source": [
    "# 변수\n",
    "a = 1\n",
    "b = 2\n",
    "\n",
    "print(a)"
   ]
  },
  {
   "cell_type": "code",
   "execution_count": 27,
   "id": "eb9135b7-5568-47b1-a300-514a7d3eb835",
   "metadata": {},
   "outputs": [
    {
     "name": "stdout",
     "output_type": "stream",
     "text": [
      "3\n"
     ]
    }
   ],
   "source": [
    "print(a+b)"
   ]
  },
  {
   "cell_type": "code",
   "execution_count": 33,
   "id": "5d4fef8a-c7b4-4308-a1eb-a0f9a0ed6e85",
   "metadata": {},
   "outputs": [],
   "source": [
    "a = \"좋아\"\n",
    "d = \"!\"\n",
    "# b = f\"오늘 날씨 {a}...{d}\"\n",
    "c = \"\"\"\n",
    "b = \"오늘 날씨 {c}...{f}\".format(c=a, f=d)\n",
    "print(b)\n",
    "\"\"\"\n"
   ]
  },
  {
   "cell_type": "code",
   "execution_count": 31,
   "id": "db7b6d75-804f-48a3-a416-4367346c5062",
   "metadata": {},
   "outputs": [
    {
     "data": {
      "text/plain": [
       "'좋아'"
      ]
     },
     "execution_count": 31,
     "metadata": {},
     "output_type": "execute_result"
    }
   ],
   "source": [
    "a"
   ]
  },
  {
   "cell_type": "code",
   "execution_count": 32,
   "id": "0f2c5b27-4103-47ee-9eab-125f9b33df3f",
   "metadata": {},
   "outputs": [
    {
     "data": {
      "text/plain": [
       "'오늘 날씨 좋아...!'"
      ]
     },
     "execution_count": 32,
     "metadata": {},
     "output_type": "execute_result"
    }
   ],
   "source": [
    "b"
   ]
  },
  {
   "cell_type": "code",
   "execution_count": 34,
   "id": "6d43c7f7-ddc9-4f33-93e7-8ba63834c284",
   "metadata": {},
   "outputs": [
    {
     "name": "stdout",
     "output_type": "stream",
     "text": [
      "\n",
      "b = \"오늘 날씨 {c}...{f}\".format(c=a, f=d)\n",
      "print(b)\n",
      "\n"
     ]
    }
   ],
   "source": [
    "print(c)"
   ]
  },
  {
   "cell_type": "markdown",
   "id": "d4ad98b4-0a43-45f0-80dc-ed30ad0a40cc",
   "metadata": {},
   "source": [
    "## 복잡한 자료형\n",
    "\n",
    "- 리스트 (list, Lists): 예) [1, 2, 3], ['a', 'b', 'c']\n",
    "- 튜플 (tuple, Tuples): 예) (1, 2, 3), ('a', 'b', 'c')\n",
    "- 사전 (dict, Dictionaries): 예) {'key1': 'value1', 'key2': 'value2'}\n",
    "- 세트 (set, Sets): 예) {1, 2, 3}"
   ]
  },
  {
   "cell_type": "markdown",
   "id": "73054de8-fa67-473f-b8f1-504f321cc538",
   "metadata": {},
   "source": [
    "### List"
   ]
  },
  {
   "cell_type": "code",
   "execution_count": 35,
   "id": "4dcf97c0-b917-4b9f-824e-e31c318c0ff7",
   "metadata": {},
   "outputs": [],
   "source": [
    "# list\n",
    "#idx 0  1  2  3\n",
    "a = [1, 2, 3, 4]"
   ]
  },
  {
   "cell_type": "code",
   "execution_count": 40,
   "id": "cf6cedda-c49b-4f1a-9a77-816a0fcc7690",
   "metadata": {},
   "outputs": [
    {
     "name": "stdout",
     "output_type": "stream",
     "text": [
      "3\n"
     ]
    }
   ],
   "source": [
    "# indexing\n",
    "print(a[2])"
   ]
  },
  {
   "cell_type": "code",
   "execution_count": 47,
   "id": "05000018-1347-4df9-819b-7429721ba780",
   "metadata": {},
   "outputs": [
    {
     "name": "stdout",
     "output_type": "stream",
     "text": [
      "[3, 4]\n"
     ]
    }
   ],
   "source": [
    "# slicing\n",
    "print(a[-2:])"
   ]
  },
  {
   "cell_type": "code",
   "execution_count": 48,
   "id": "5f3f7e86-54d6-4a05-b4ae-32796d3b9f28",
   "metadata": {},
   "outputs": [
    {
     "name": "stdout",
     "output_type": "stream",
     "text": [
      "[1, 2, 3, 4]\n"
     ]
    }
   ],
   "source": [
    "# append\n",
    "print(a)"
   ]
  },
  {
   "cell_type": "code",
   "execution_count": 49,
   "id": "e3af096d-646c-4b12-a256-80e49d387650",
   "metadata": {},
   "outputs": [
    {
     "name": "stdout",
     "output_type": "stream",
     "text": [
      "[1, 2, 3, 4, 5]\n"
     ]
    }
   ],
   "source": [
    "a.append(5)\n",
    "print(a)"
   ]
  },
  {
   "cell_type": "code",
   "execution_count": 50,
   "id": "391e6a56-a73d-47af-a88a-0358df1f1ae7",
   "metadata": {},
   "outputs": [
    {
     "name": "stdout",
     "output_type": "stream",
     "text": [
      "[1, 2, 3, 4, 5, 6]\n"
     ]
    }
   ],
   "source": [
    "a.append(6)\n",
    "print(a)"
   ]
  },
  {
   "cell_type": "markdown",
   "id": "9234761e-54a3-4972-836e-c23f26baab7b",
   "metadata": {},
   "source": [
    "### Tuple"
   ]
  },
  {
   "cell_type": "code",
   "execution_count": 51,
   "id": "4279cceb-eacd-424d-bb72-9200c3fbadab",
   "metadata": {},
   "outputs": [],
   "source": [
    "a = (\"네이버\", \"카카오\", \"라인\", \"쿠팡\")"
   ]
  },
  {
   "cell_type": "code",
   "execution_count": 54,
   "id": "cceab628-b067-46aa-8969-b435a8df5087",
   "metadata": {},
   "outputs": [
    {
     "data": {
      "text/plain": [
       "'라인'"
      ]
     },
     "execution_count": 54,
     "metadata": {},
     "output_type": "execute_result"
    }
   ],
   "source": [
    "a[2]"
   ]
  },
  {
   "cell_type": "code",
   "execution_count": 55,
   "id": "9a835b5b-9739-4d5c-856e-be90a9716295",
   "metadata": {},
   "outputs": [
    {
     "data": {
      "text/plain": [
       "('카카오', '라인')"
      ]
     },
     "execution_count": 55,
     "metadata": {},
     "output_type": "execute_result"
    }
   ],
   "source": [
    "a[1:3]"
   ]
  },
  {
   "cell_type": "markdown",
   "id": "e4819285-796e-4853-91d2-7c942c870a2f",
   "metadata": {},
   "source": [
    "### list와 tuple의 차이"
   ]
  },
  {
   "cell_type": "code",
   "execution_count": 56,
   "id": "97065ca1-e2fa-4de6-9713-63833a116481",
   "metadata": {},
   "outputs": [],
   "source": [
    "# list와 tuple의 차이\n",
    "a = [\"오늘\", \"내일\", \"모래\"]\n",
    "b = (\"오늘\", \"내일\", \"모래\")"
   ]
  },
  {
   "cell_type": "code",
   "execution_count": 57,
   "id": "c7310982-9342-40b8-9409-15b8a0cf3cf9",
   "metadata": {},
   "outputs": [
    {
     "name": "stdout",
     "output_type": "stream",
     "text": [
      "['오늘', '내일', '모래']\n",
      "['오늘', 'XX', '모래']\n"
     ]
    }
   ],
   "source": [
    "print(a)\n",
    "a[1] = \"XX\"\n",
    "print(a)"
   ]
  },
  {
   "cell_type": "code",
   "execution_count": 58,
   "id": "a35e672d-1ac4-48f9-b607-f38f9fb4764a",
   "metadata": {},
   "outputs": [
    {
     "name": "stdout",
     "output_type": "stream",
     "text": [
      "('오늘', '내일', '모래')\n"
     ]
    }
   ],
   "source": [
    "print(b)"
   ]
  },
  {
   "cell_type": "code",
   "execution_count": 59,
   "id": "a3e36e58-eba4-4b4b-99bd-d9cc3a8fd973",
   "metadata": {},
   "outputs": [
    {
     "ename": "TypeError",
     "evalue": "'tuple' object does not support item assignment",
     "output_type": "error",
     "traceback": [
      "\u001b[0;31m---------------------------------------------------------------------------\u001b[0m",
      "\u001b[0;31mTypeError\u001b[0m                                 Traceback (most recent call last)",
      "Cell \u001b[0;32mIn[59], line 1\u001b[0m\n\u001b[0;32m----> 1\u001b[0m \u001b[43mb\u001b[49m\u001b[43m[\u001b[49m\u001b[38;5;241;43m1\u001b[39;49m\u001b[43m]\u001b[49m \u001b[38;5;241m=\u001b[39m \u001b[38;5;124m\"\u001b[39m\u001b[38;5;124mXX\u001b[39m\u001b[38;5;124m\"\u001b[39m\n\u001b[1;32m      2\u001b[0m \u001b[38;5;28mprint\u001b[39m(b)\n",
      "\u001b[0;31mTypeError\u001b[0m: 'tuple' object does not support item assignment"
     ]
    }
   ],
   "source": [
    "b[1] = \"XX\"\n",
    "print(b)"
   ]
  },
  {
   "cell_type": "markdown",
   "id": "6c80feee-cd9c-4865-9e09-bd5438d008d8",
   "metadata": {},
   "source": [
    "## Set"
   ]
  },
  {
   "cell_type": "code",
   "execution_count": 60,
   "id": "b7679d36-84da-4ecf-b4b7-8be539dd2ac0",
   "metadata": {},
   "outputs": [
    {
     "name": "stdout",
     "output_type": "stream",
     "text": [
      "{1, 2, 3}\n"
     ]
    }
   ],
   "source": [
    "# set\n",
    "a = {1,2,3,1,2}\n",
    "a = set([1, 2, 3, 1, 2])\n",
    "\n",
    "print(a)"
   ]
  },
  {
   "cell_type": "code",
   "execution_count": 61,
   "id": "46ba5123-752b-41fb-934a-32980520ae8a",
   "metadata": {},
   "outputs": [
    {
     "name": "stdout",
     "output_type": "stream",
     "text": [
      "{10, 1, 2, 3}\n"
     ]
    }
   ],
   "source": [
    "# add\n",
    "a.add(10)\n",
    "print(a)"
   ]
  },
  {
   "cell_type": "code",
   "execution_count": 62,
   "id": "29c00d2b-f314-4941-ab33-679711ef86c3",
   "metadata": {},
   "outputs": [
    {
     "name": "stdout",
     "output_type": "stream",
     "text": [
      "{10, 1, 2, 3}\n"
     ]
    }
   ],
   "source": [
    "a.add(10)\n",
    "print(a)"
   ]
  },
  {
   "cell_type": "markdown",
   "id": "24272315-db4e-4a11-8342-a5c826db599a",
   "metadata": {},
   "source": [
    "## Dict"
   ]
  },
  {
   "cell_type": "code",
   "execution_count": 63,
   "id": "6c1d684d-8239-431c-b951-fc68e034826c",
   "metadata": {},
   "outputs": [],
   "source": [
    "# dict\n",
    "hp_by_character = {'genji': 200, \"doomfist\": 450}"
   ]
  },
  {
   "cell_type": "code",
   "execution_count": 64,
   "id": "b5e4285b-b2b4-4343-8d49-288a8341c9fe",
   "metadata": {},
   "outputs": [
    {
     "name": "stdout",
     "output_type": "stream",
     "text": [
      "{'genji': 200, 'doomfist': 450}\n"
     ]
    }
   ],
   "source": [
    "print(hp_by_character)"
   ]
  },
  {
   "cell_type": "code",
   "execution_count": 65,
   "id": "3c3e0ff0-af0f-48bf-9566-cbd533e9c50b",
   "metadata": {},
   "outputs": [
    {
     "name": "stdout",
     "output_type": "stream",
     "text": [
      "doomfist hp: 450\n"
     ]
    }
   ],
   "source": [
    "character = 'doomfist'\n",
    "print(f\"{character} hp: {hp_by_character[character]}\")"
   ]
  },
  {
   "cell_type": "code",
   "execution_count": null,
   "id": "7e567525-cc63-487b-bd18-ba0182a1651c",
   "metadata": {},
   "outputs": [],
   "source": []
  }
 ],
 "metadata": {
  "kernelspec": {
   "display_name": "Python 3 (ipykernel)",
   "language": "python",
   "name": "python3"
  },
  "language_info": {
   "codemirror_mode": {
    "name": "ipython",
    "version": 3
   },
   "file_extension": ".py",
   "mimetype": "text/x-python",
   "name": "python",
   "nbconvert_exporter": "python",
   "pygments_lexer": "ipython3",
   "version": "3.11.5"
  }
 },
 "nbformat": 4,
 "nbformat_minor": 5
}
