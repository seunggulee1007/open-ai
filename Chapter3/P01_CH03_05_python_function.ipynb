{
 "cells": [
  {
   "cell_type": "markdown",
   "id": "53d3770e",
   "metadata": {},
   "source": [
    "# Python 함수\n",
    "\n",
    "이 노트북은 Python의 함수에 대해 소개합니다."
   ]
  },
  {
   "cell_type": "markdown",
   "id": "37ffa60e-6b3e-49bb-acff-403001d24ce8",
   "metadata": {},
   "source": [
    "## 함수\n",
    "\n",
    "함수는 코드를 재사용할 수 있도록 하는 데 도움을 줍니다. Python에서 함수를 정의하고 사용하는 방법을 살펴보겠습니다.\n",
    "\n",
    "### 함수 정의\n",
    "\n",
    "함수는 `def` 키워드를 사용하여 정의합니다. 매개변수를 통해 입력을 받고, `return`을 통해 결과를 반환할 수 있습니다."
   ]
  },
  {
   "cell_type": "code",
   "execution_count": 1,
   "id": "9804b22f-49f2-4d82-a1c4-958d71644b9f",
   "metadata": {},
   "outputs": [],
   "source": [
    "def greet(name):\n",
    "    return \"안녕하세요, \" + name + \"님!\""
   ]
  },
  {
   "cell_type": "code",
   "execution_count": 2,
   "id": "51e4b7d3-5061-4e4c-a6fd-9a9f35c19417",
   "metadata": {},
   "outputs": [
    {
     "name": "stdout",
     "output_type": "stream",
     "text": [
      "안녕하세요, Alice님!\n"
     ]
    }
   ],
   "source": [
    "print(greet(\"Alice\"))"
   ]
  },
  {
   "cell_type": "markdown",
   "id": "0ff72e6d-5fa1-4083-ae21-1323d4a09cd8",
   "metadata": {},
   "source": [
    "### 매개변수와 인자\n",
    "\n",
    "- 매개변수(Parameter): 함수를 정의할 때 사용되는 변수입니다.\n",
    "- 인자(Argument): 함수를 호출할 때 전달하는 값입니다."
   ]
  },
  {
   "cell_type": "markdown",
   "id": "07b0ac02-59f8-48c3-88a9-cf66483dc78c",
   "metadata": {},
   "source": [
    "### 기본값을 가진 매개변수\n",
    "\n",
    "함수 매개변수에 기본값을 설정할 수 있습니다. 이렇게 하면 해당 인자를 생략할 수 있습니다."
   ]
  },
  {
   "cell_type": "code",
   "execution_count": 3,
   "id": "3cad03a0-5790-43a4-951c-4cf386e001a5",
   "metadata": {},
   "outputs": [],
   "source": [
    "def greet(name, msg=\"안녕하세요!\"):\n",
    "    return msg + \" \" + name + \"님!\""
   ]
  },
  {
   "cell_type": "code",
   "execution_count": 4,
   "id": "67521fec-20c3-45fe-a61a-7ad29bfb8da4",
   "metadata": {},
   "outputs": [
    {
     "name": "stdout",
     "output_type": "stream",
     "text": [
      "안녕하세요! Alice님!\n"
     ]
    }
   ],
   "source": [
    "print(greet(\"Alice\"))"
   ]
  },
  {
   "cell_type": "code",
   "execution_count": 5,
   "id": "9767d487-f58a-4228-8dd5-e40c3f329565",
   "metadata": {},
   "outputs": [
    {
     "name": "stdout",
     "output_type": "stream",
     "text": [
      "반갑습니다 Bob님!\n"
     ]
    }
   ],
   "source": [
    "print(greet(\"Bob\", \"반갑습니다\"))"
   ]
  },
  {
   "cell_type": "code",
   "execution_count": 7,
   "id": "d7ec0bc0-b50b-4fc1-971e-13f4f61f1f73",
   "metadata": {},
   "outputs": [
    {
     "data": {
      "text/plain": [
       "'Bob 반갑습니다님!'"
      ]
     },
     "execution_count": 7,
     "metadata": {},
     "output_type": "execute_result"
    }
   ],
   "source": [
    "greet(msg=\"Bob\", name=\"반갑습니다\")"
   ]
  },
  {
   "cell_type": "markdown",
   "id": "90c9c3b9-f986-48dd-9033-11b54361d764",
   "metadata": {},
   "source": [
    "### 가변 길이 인자\n",
    "\n",
    "- `*args`: 여러 개의 위치 인자를 튜플로 받습니다.\n",
    "- `**kwargs`: 여러 개의 키워드 인자를 사전으로 받습니다."
   ]
  },
  {
   "cell_type": "code",
   "execution_count": 8,
   "id": "91db96ab-50a4-4011-b842-771d70a0b7a7",
   "metadata": {},
   "outputs": [],
   "source": [
    "def print_args(*args):\n",
    "    for arg in args:\n",
    "        print(arg)"
   ]
  },
  {
   "cell_type": "code",
   "execution_count": 9,
   "id": "aca3a8f2-f897-498c-b89b-aa5ae2436c43",
   "metadata": {},
   "outputs": [
    {
     "name": "stdout",
     "output_type": "stream",
     "text": [
      "하나\n",
      "둘\n",
      "셋\n"
     ]
    }
   ],
   "source": [
    "print_args('하나', '둘', '셋')"
   ]
  },
  {
   "cell_type": "code",
   "execution_count": 10,
   "id": "0d8b97b8-31d9-4a4a-a94a-3b95d6c3fe9a",
   "metadata": {},
   "outputs": [],
   "source": [
    "def print_kwargs(**kwargs):\n",
    "    for key, value in kwargs.items():\n",
    "        print(f\"{key}: {value}\")"
   ]
  },
  {
   "cell_type": "code",
   "execution_count": 11,
   "id": "3587ea2a-ff21-4ec1-b510-586a7cab399c",
   "metadata": {},
   "outputs": [
    {
     "name": "stdout",
     "output_type": "stream",
     "text": [
      "first: 1st\n",
      "second: 2nd\n"
     ]
    }
   ],
   "source": [
    "print_kwargs(first='1st', second='2nd')"
   ]
  },
  {
   "cell_type": "markdown",
   "id": "be796753-ea71-4ff8-9c63-c5d9eaee2902",
   "metadata": {},
   "source": [
    "함수는 복잡한 프로그램을 작은 단위로 나누고, 코드의 재사용을 가능하게 하여 프로그램을 보다 효율적으로 만듭니다."
   ]
  },
  {
   "cell_type": "code",
   "execution_count": null,
   "id": "c37710e6-bc02-45fe-8431-b6d12422688a",
   "metadata": {},
   "outputs": [],
   "source": []
  }
 ],
 "metadata": {
  "kernelspec": {
   "display_name": "Python 3 (ipykernel)",
   "language": "python",
   "name": "python3"
  },
  "language_info": {
   "codemirror_mode": {
    "name": "ipython",
    "version": 3
   },
   "file_extension": ".py",
   "mimetype": "text/x-python",
   "name": "python",
   "nbconvert_exporter": "python",
   "pygments_lexer": "ipython3",
   "version": "3.11.5"
  }
 },
 "nbformat": 4,
 "nbformat_minor": 5
}
