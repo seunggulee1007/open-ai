{
 "cells": [
  {
   "cell_type": "markdown",
   "id": "3c685491-8517-420f-8f06-c248c7577106",
   "metadata": {},
   "source": [
    "# Python 표준 라이브러리\n",
    "\n",
    "이 노트북은 Python의 표준 라이브러리에 대해 소개합니다. 표준 라이브러리는 Python과 함께 설치되는 내장 모듈의 집합으로, 다양한 작업을 위한 도구를 제공합니다.\n",
    "\n",
    "## 표준 라이브러리 개요\n",
    "\n",
    "Python 표준 라이브러리는 다음과 같은 다양한 기능을 제공합니다:\n",
    "\n",
    "- 파일 입출력\n",
    "- 시스템 관리\n",
    "- 인터넷 프로토콜과 지원\n",
    "- 데이터 압축 및 아카이빙\n",
    "- 수학적 계산\n",
    "- 날짜와 시간 처리"
   ]
  },
  {
   "cell_type": "markdown",
   "id": "0088f4ba-e470-4d51-98c2-220fadf71f9a",
   "metadata": {},
   "source": [
    "## 표준 라이브러리 활용\n",
    "\n",
    "Python 표준 라이브러리는 강력하고 다양한 기능을 제공합니다. 이를 통해 파일 처리, 데이터 관리, 인터넷 연결, 수학 계산 등 다양한 작업을 쉽고 효율적으로 수행할 수 있습니다.\n",
    "\n",
    "Python의 표준 라이브러리에 대한 보다 자세한 정보는 Python 공식 문서에서 확인할 수 있습니다."
   ]
  },
  {
   "cell_type": "markdown",
   "id": "c6f13f87-8535-4b14-8129-ecab061d0c4f",
   "metadata": {},
   "source": [
    "## 주요 모듈 소개"
   ]
  },
  {
   "cell_type": "markdown",
   "id": "895a72bb-1bec-4a71-b04a-62576e873624",
   "metadata": {},
   "source": [
    "### 내장 함수"
   ]
  },
  {
   "cell_type": "code",
   "execution_count": 14,
   "id": "8dded969-c955-4a5d-bb75-34d161b9e3c9",
   "metadata": {},
   "outputs": [
    {
     "name": "stdout",
     "output_type": "stream",
     "text": [
      "a의 길이: 3\n"
     ]
    }
   ],
   "source": [
    "a = [1,2,3]\n",
    "print(f\"a의 길이: {len(a)}\")"
   ]
  },
  {
   "cell_type": "code",
   "execution_count": 15,
   "id": "d4c5ea2a-2c35-4e58-a2f3-c49e9cb2812d",
   "metadata": {},
   "outputs": [
    {
     "data": {
      "text/plain": [
       "3"
      ]
     },
     "execution_count": 15,
     "metadata": {},
     "output_type": "execute_result"
    }
   ],
   "source": [
    "max(a)"
   ]
  },
  {
   "cell_type": "code",
   "execution_count": 16,
   "id": "835ccc6e-ed31-4d34-88ce-5e9102e7974a",
   "metadata": {},
   "outputs": [
    {
     "data": {
      "text/plain": [
       "1"
      ]
     },
     "execution_count": 16,
     "metadata": {},
     "output_type": "execute_result"
    }
   ],
   "source": [
    "min(a)"
   ]
  },
  {
   "cell_type": "code",
   "execution_count": 17,
   "id": "bbf023e0-d742-4323-bc81-a593f9405ddc",
   "metadata": {},
   "outputs": [
    {
     "data": {
      "text/plain": [
       "10"
      ]
     },
     "execution_count": 17,
     "metadata": {},
     "output_type": "execute_result"
    }
   ],
   "source": [
    "max(10,5)"
   ]
  },
  {
   "cell_type": "code",
   "execution_count": 18,
   "id": "38d81925-609c-4630-8a9c-ab662dea68ef",
   "metadata": {},
   "outputs": [
    {
     "data": {
      "text/plain": [
       "5"
      ]
     },
     "execution_count": 18,
     "metadata": {},
     "output_type": "execute_result"
    }
   ],
   "source": [
    "c = min(10,5)\n",
    "c"
   ]
  },
  {
   "cell_type": "code",
   "execution_count": 19,
   "id": "efe17be5-f8ec-4a68-b047-eebd8c398492",
   "metadata": {},
   "outputs": [
    {
     "data": {
      "text/plain": [
       "6"
      ]
     },
     "execution_count": 19,
     "metadata": {},
     "output_type": "execute_result"
    }
   ],
   "source": [
    "sum(a)"
   ]
  },
  {
   "cell_type": "markdown",
   "id": "362d43fb-51d0-4057-a2f8-417c9d5f3c0d",
   "metadata": {},
   "source": [
    "### os 모듈\n",
    "\n",
    "- 시스템 관련 작업을 위한 모듈입니다.\n",
    "- 파일, 디렉토리 작업, 시스템 정보 확인 등의 기능을 제공합니다."
   ]
  },
  {
   "cell_type": "code",
   "execution_count": 20,
   "id": "6de153c5-6b02-4286-bcad-b893df7c97f1",
   "metadata": {},
   "outputs": [
    {
     "data": {
      "text/plain": [
       "'/Users/user/projects/sj/lectures/fastcampus_202312_aitutor/materials_code/part01/P03_CH02_03_10_python_tutorial'"
      ]
     },
     "execution_count": 20,
     "metadata": {},
     "output_type": "execute_result"
    }
   ],
   "source": [
    "import os\n",
    "\n",
    "cwd = os.getcwd()\n",
    "cwd  # 현재 작업 디렉토리 얻기"
   ]
  },
  {
   "cell_type": "code",
   "execution_count": 8,
   "id": "d5b2ef4b-d544-40b4-a998-382bef83c1c1",
   "metadata": {},
   "outputs": [
    {
     "data": {
      "text/plain": [
       "'P03_CH02_03_10_python_tutorial'"
      ]
     },
     "execution_count": 8,
     "metadata": {},
     "output_type": "execute_result"
    }
   ],
   "source": [
    "os.path.basename(cwd)"
   ]
  },
  {
   "cell_type": "code",
   "execution_count": 21,
   "id": "18006cd5-cfa4-452c-92dc-ff1a7fb8087f",
   "metadata": {},
   "outputs": [
    {
     "data": {
      "text/plain": [
       "'/Users/user/projects/sj/lectures/fastcampus_202312_aitutor/materials_code/part01'"
      ]
     },
     "execution_count": 21,
     "metadata": {},
     "output_type": "execute_result"
    }
   ],
   "source": [
    "os.path.dirname(cwd)"
   ]
  },
  {
   "cell_type": "markdown",
   "id": "8c56b627-f733-4a5e-8375-5003d7b3ab24",
   "metadata": {},
   "source": [
    "### datetime 모듈\n",
    "\n",
    "- 날짜와 시간을 다루는 모듈입니다.\n",
    "- 날짜, 시간, 기간 계산 및 조작 기능을 제공합니다."
   ]
  },
  {
   "cell_type": "code",
   "execution_count": 22,
   "id": "86e82700-5c70-4220-ac68-833c530b4ef6",
   "metadata": {},
   "outputs": [
    {
     "data": {
      "text/plain": [
       "datetime.datetime(2023, 12, 24, 14, 32, 41, 931686)"
      ]
     },
     "execution_count": 22,
     "metadata": {},
     "output_type": "execute_result"
    }
   ],
   "source": [
    "import datetime\n",
    "\n",
    "now = datetime.datetime.now()\n",
    "now  # 현재 날짜와 시간 얻기"
   ]
  },
  {
   "cell_type": "code",
   "execution_count": 11,
   "id": "b2bb2a62-5195-4392-bf11-133ab8f032e1",
   "metadata": {},
   "outputs": [
    {
     "data": {
      "text/plain": [
       "'2023-12-24 14:26:11'"
      ]
     },
     "execution_count": 11,
     "metadata": {},
     "output_type": "execute_result"
    }
   ],
   "source": [
    "formatted_date = now.strftime(\"%Y-%m-%d %H:%M:%S\")\n",
    "formatted_date"
   ]
  },
  {
   "cell_type": "code",
   "execution_count": 12,
   "id": "1519eafe-8337-4a6d-a1a2-989a86e3ed2c",
   "metadata": {},
   "outputs": [
    {
     "name": "stdout",
     "output_type": "stream",
     "text": [
      "2023-12-31 14:26:11.225355\n"
     ]
    }
   ],
   "source": [
    "# 7일 후의 날짜 계산\n",
    "seven_days_later = now + datetime.timedelta(days=7)\n",
    "print(seven_days_later)"
   ]
  },
  {
   "cell_type": "code",
   "execution_count": 23,
   "id": "3ca75b14-141c-4fcf-934e-0febd68b5b97",
   "metadata": {},
   "outputs": [
    {
     "data": {
      "text/plain": [
       "datetime.datetime(2023, 12, 24, 10, 30)"
      ]
     },
     "execution_count": 23,
     "metadata": {},
     "output_type": "execute_result"
    }
   ],
   "source": [
    "# 문자열에서 시간 파싱\n",
    "date_string = \"2023-12-24 10:30:00\"\n",
    "parsed_datetime = datetime.datetime.strptime(date_string, \"%Y-%m-%d %H:%M:%S\")\n",
    "parsed_datetime"
   ]
  },
  {
   "cell_type": "markdown",
   "id": "ea640ec8-f240-43a7-8f3e-316981ae568b",
   "metadata": {},
   "source": [
    "### math 모듈\n",
    "\n",
    "- 수학적 계산을 위한 모듈입니다.\n",
    "- 기본적인 수학 함수와 상수를 제공합니다."
   ]
  },
  {
   "cell_type": "code",
   "execution_count": 24,
   "id": "8b54e1d0-f37f-4b23-9844-6ddc8a0e3969",
   "metadata": {},
   "outputs": [
    {
     "data": {
      "text/plain": [
       "4.0"
      ]
     },
     "execution_count": 24,
     "metadata": {},
     "output_type": "execute_result"
    }
   ],
   "source": [
    "import math\n",
    "math.sqrt(16)  # 제곱근 계산"
   ]
  },
  {
   "cell_type": "code",
   "execution_count": 25,
   "id": "066ed34f-dd15-49f8-963a-8e3f515d4f8b",
   "metadata": {},
   "outputs": [
    {
     "data": {
      "text/plain": [
       "3"
      ]
     },
     "execution_count": 25,
     "metadata": {},
     "output_type": "execute_result"
    }
   ],
   "source": [
    "math.floor(3.14)"
   ]
  },
  {
   "cell_type": "code",
   "execution_count": 26,
   "id": "3ec90c6b-c820-488b-9af7-7fe325c43743",
   "metadata": {},
   "outputs": [
    {
     "data": {
      "text/plain": [
       "4"
      ]
     },
     "execution_count": 26,
     "metadata": {},
     "output_type": "execute_result"
    }
   ],
   "source": [
    "math.ceil(3.14)"
   ]
  },
  {
   "cell_type": "markdown",
   "id": "994344ec-9872-4561-adf4-f96f23532fab",
   "metadata": {},
   "source": [
    "### json 모듈\n",
    "\n",
    "- JSON 데이터를 다루는 모듈입니다.\n",
    "- JSON 문자열을 Python 자료형으로 변환하거나, Python 자료형을 JSON 문자열로 변환하는 기능을 제공합니다."
   ]
  },
  {
   "cell_type": "code",
   "execution_count": 27,
   "id": "4313c557-9075-445f-9c24-0acc12704ee3",
   "metadata": {},
   "outputs": [],
   "source": [
    "import json\n",
    "data = {'name': 'John', 'age': 30}"
   ]
  },
  {
   "cell_type": "code",
   "execution_count": 28,
   "id": "22d591f4-0e61-4069-b5b5-8b2bf7ffb01d",
   "metadata": {},
   "outputs": [],
   "source": [
    "with open(\"./person.json\", \"wt\") as f:\n",
    "    json.dump(data, f)"
   ]
  },
  {
   "cell_type": "code",
   "execution_count": 29,
   "id": "c885370d-e26e-4d37-8c39-548c688d2548",
   "metadata": {},
   "outputs": [],
   "source": [
    "with open(\"./person.json\", \"rt\") as f:\n",
    "    saved_data = json.load(f)"
   ]
  },
  {
   "cell_type": "code",
   "execution_count": 30,
   "id": "853e9abb-27b1-49b2-a04d-20824c08d198",
   "metadata": {},
   "outputs": [
    {
     "data": {
      "text/plain": [
       "{'name': 'John', 'age': 35}"
      ]
     },
     "execution_count": 30,
     "metadata": {},
     "output_type": "execute_result"
    }
   ],
   "source": [
    "saved_data"
   ]
  },
  {
   "cell_type": "code",
   "execution_count": null,
   "id": "2854a8bd-2ccc-4f5e-9f4f-219b8f02b5a4",
   "metadata": {},
   "outputs": [],
   "source": []
  }
 ],
 "metadata": {
  "kernelspec": {
   "display_name": "Python 3 (ipykernel)",
   "language": "python",
   "name": "python3"
  },
  "language_info": {
   "codemirror_mode": {
    "name": "ipython",
    "version": 3
   },
   "file_extension": ".py",
   "mimetype": "text/x-python",
   "name": "python",
   "nbconvert_exporter": "python",
   "pygments_lexer": "ipython3",
   "version": "3.11.5"
  }
 },
 "nbformat": 4,
 "nbformat_minor": 5
}
